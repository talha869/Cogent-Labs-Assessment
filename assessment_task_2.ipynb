{
  "cells": [
    {
      "cell_type": "markdown",
      "metadata": {
        "id": "view-in-github",
        "colab_type": "text"
      },
      "source": [
        "<a href=\"https://colab.research.google.com/github/talha869/Cogent-Labs-Assessment/blob/main/assessment_1.ipynb\" target=\"_parent\"><img src=\"https://colab.research.google.com/assets/colab-badge.svg\" alt=\"Open In Colab\"/></a>"
      ]
    },
    {
      "cell_type": "code",
      "source": [
        "# !pip install pandas\n",
        "!pip install openai\n",
        "# !pip install langchain"
      ],
      "metadata": {
        "colab": {
          "base_uri": "https://localhost:8080/"
        },
        "id": "303A37BQBDv6",
        "outputId": "1af9fd81-3d86-4107-bb90-ec653e9a2405"
      },
      "execution_count": 18,
      "outputs": [
        {
          "output_type": "stream",
          "name": "stdout",
          "text": [
            "Requirement already satisfied: openai in /usr/local/lib/python3.10/dist-packages (1.12.0)\n",
            "Requirement already satisfied: anyio<5,>=3.5.0 in /usr/local/lib/python3.10/dist-packages (from openai) (3.7.1)\n",
            "Requirement already satisfied: distro<2,>=1.7.0 in /usr/lib/python3/dist-packages (from openai) (1.7.0)\n",
            "Requirement already satisfied: httpx<1,>=0.23.0 in /usr/local/lib/python3.10/dist-packages (from openai) (0.27.0)\n",
            "Requirement already satisfied: pydantic<3,>=1.9.0 in /usr/local/lib/python3.10/dist-packages (from openai) (2.6.1)\n",
            "Requirement already satisfied: sniffio in /usr/local/lib/python3.10/dist-packages (from openai) (1.3.0)\n",
            "Requirement already satisfied: tqdm>4 in /usr/local/lib/python3.10/dist-packages (from openai) (4.66.2)\n",
            "Requirement already satisfied: typing-extensions<5,>=4.7 in /usr/local/lib/python3.10/dist-packages (from openai) (4.9.0)\n",
            "Requirement already satisfied: idna>=2.8 in /usr/local/lib/python3.10/dist-packages (from anyio<5,>=3.5.0->openai) (3.6)\n",
            "Requirement already satisfied: exceptiongroup in /usr/local/lib/python3.10/dist-packages (from anyio<5,>=3.5.0->openai) (1.2.0)\n",
            "Requirement already satisfied: certifi in /usr/local/lib/python3.10/dist-packages (from httpx<1,>=0.23.0->openai) (2024.2.2)\n",
            "Requirement already satisfied: httpcore==1.* in /usr/local/lib/python3.10/dist-packages (from httpx<1,>=0.23.0->openai) (1.0.4)\n",
            "Requirement already satisfied: h11<0.15,>=0.13 in /usr/local/lib/python3.10/dist-packages (from httpcore==1.*->httpx<1,>=0.23.0->openai) (0.14.0)\n",
            "Requirement already satisfied: annotated-types>=0.4.0 in /usr/local/lib/python3.10/dist-packages (from pydantic<3,>=1.9.0->openai) (0.6.0)\n",
            "Requirement already satisfied: pydantic-core==2.16.2 in /usr/local/lib/python3.10/dist-packages (from pydantic<3,>=1.9.0->openai) (2.16.2)\n"
          ]
        }
      ]
    },
    {
      "cell_type": "code",
      "source": [
        "\n",
        "import pandas as pd\n",
        "import openai\n",
        "from langchain.llms import OpenAI\n",
        "import os\n"
      ],
      "metadata": {
        "id": "5c_UZ5wQA81Q"
      },
      "execution_count": 38,
      "outputs": []
    },
    {
      "cell_type": "code",
      "source": [
        "\n",
        "# Set up your OpenAI API key in the environment\n",
        "os.environ['OPENAI_API_KEY'] = 'your_openai_api_key'\n"
      ],
      "metadata": {
        "id": "pzWj9OVeA81V"
      },
      "execution_count": 43,
      "outputs": []
    },
    {
      "cell_type": "code",
      "source": [
        "\n",
        "# Initialize LangChain's LLM for OpenAI\n",
        "llm = OpenAI()\n"
      ],
      "metadata": {
        "id": "5WotEXPyA81X"
      },
      "execution_count": 40,
      "outputs": []
    },
    {
      "cell_type": "code",
      "source": [
        "\n",
        "def generate_study_plan(student_data):\n",
        "    \"\"\"\n",
        "    Generates a personalized study plan for a student based on their information.\n",
        "\n",
        "    :param student_data: A Series containing the student's information from the DataFrame.\n",
        "    :return: A personalized study plan.\n",
        "    \"\"\"\n",
        "    # Construct the prompt using the student's data\n",
        "    prompt = f\"\"\"\n",
        "    Based on the following student information, create a personalized study plan that addresses their academic requirements, aligns with their preferred learning style ({student_data['Preferred Learning Styles']}), incorporates their extracurricular activities ({student_data['Extracurricular activities']}), and helps them achieve their personal objectives or overcome specific challenges ({student_data['Challenges']}).\n",
        "\n",
        "    Student Information:\n",
        "    - Field of Study: {student_data['Field of study']}\n",
        "    - Year of Study: {student_data['Year of study']}\n",
        "    - Subjects and Academic Performance: {student_data['List of subjects']}\n",
        "    - Personal Objectives: {student_data['Personal Objectives']}\n",
        "\n",
        "    The study plan should include:\n",
        "    1. A weekly schedule allocating time to each subject based on performance and objectives.\n",
        "    2. Recommended learning resources (videos, books, websites) tailored to their learning style.\n",
        "    3. Strategies for integrating study with extracurricular activities.\n",
        "    4. Tips for overcoming their specific challenges or meeting their objectives.\n",
        "\n",
        "    Please provide a detailed and structured plan.\n",
        "    \"\"\"\n",
        "    result = llm.generate(prompts=[prompt], max_tokens=1024, temperature=0.7)\n",
        "\n",
        "    generated_text = result.generations[0][0].text\n",
        "\n",
        "    return generated_text\n"
      ],
      "metadata": {
        "id": "lMOXeCW1A81Y"
      },
      "execution_count": 41,
      "outputs": []
    },
    {
      "cell_type": "code",
      "source": [
        "\n",
        "# Load the student information from the Excel file\n",
        "file_path = r'/content/Student_Data.xlsx'\n",
        "student_data_df = pd.read_excel(file_path)\n",
        "\n",
        "# Iterate over each student in the DataFrame and generate their study plan\n",
        "for index, student_info in student_data_df.iterrows():\n",
        "    print(f\"Generating study plan for {student_info['Name']}...\")\n",
        "    study_plan = generate_study_plan(student_info)\n",
        "    print(study_plan)\n",
        "    print(\"----\\n\")\n"
      ],
      "metadata": {
        "id": "EI7KGYRpA81Z"
      },
      "execution_count": null,
      "outputs": []
    }
  ],
  "metadata": {
    "kernelspec": {
      "display_name": "Python 3",
      "language": "python",
      "name": "python3"
    },
    "language_info": {
      "codemirror_mode": {
        "name": "ipython",
        "version": 3
      },
      "file_extension": ".py",
      "mimetype": "text/x-python",
      "name": "python",
      "nbconvert_exporter": "python",
      "pygments_lexer": "ipython3",
      "version": "3.8.5"
    },
    "colab": {
      "provenance": [],
      "include_colab_link": true
    }
  },
  "nbformat": 4,
  "nbformat_minor": 0
}
